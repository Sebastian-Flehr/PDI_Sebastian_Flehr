{
  "nbformat": 4,
  "nbformat_minor": 0,
  "metadata": {
    "colab": {
      "provenance": [],
      "gpuType": "T4"
    },
    "kernelspec": {
      "name": "python3",
      "display_name": "Python 3"
    },
    "language_info": {
      "name": "python"
    },
    "accelerator": "GPU",
    "widgets": {
      "application/vnd.jupyter.widget-state+json": {
        "02cd9ffecfdd46b5824aae73978d6fb6": {
          "model_module": "@jupyter-widgets/controls",
          "model_name": "HBoxModel",
          "model_module_version": "1.5.0",
          "state": {
            "_dom_classes": [],
            "_model_module": "@jupyter-widgets/controls",
            "_model_module_version": "1.5.0",
            "_model_name": "HBoxModel",
            "_view_count": null,
            "_view_module": "@jupyter-widgets/controls",
            "_view_module_version": "1.5.0",
            "_view_name": "HBoxView",
            "box_style": "",
            "children": [
              "IPY_MODEL_1e998c075da242d3acd4e9230ebba89f",
              "IPY_MODEL_a861af10b6264011ae923ac59d736915",
              "IPY_MODEL_8c328b5c7c414d66a00b80a4ec3adcaf"
            ],
            "layout": "IPY_MODEL_5edf2c4cba66463cb67879d1c0e03381"
          }
        },
        "1e998c075da242d3acd4e9230ebba89f": {
          "model_module": "@jupyter-widgets/controls",
          "model_name": "HTMLModel",
          "model_module_version": "1.5.0",
          "state": {
            "_dom_classes": [],
            "_model_module": "@jupyter-widgets/controls",
            "_model_module_version": "1.5.0",
            "_model_name": "HTMLModel",
            "_view_count": null,
            "_view_module": "@jupyter-widgets/controls",
            "_view_module_version": "1.5.0",
            "_view_name": "HTMLView",
            "description": "",
            "description_tooltip": null,
            "layout": "IPY_MODEL_989ab348414d45ea9ea732f6ed7ffac8",
            "placeholder": "​",
            "style": "IPY_MODEL_e81c7607fa53404b8668ea7e3a023d6e",
            "value": "Loading pipeline components...: 100%"
          }
        },
        "a861af10b6264011ae923ac59d736915": {
          "model_module": "@jupyter-widgets/controls",
          "model_name": "FloatProgressModel",
          "model_module_version": "1.5.0",
          "state": {
            "_dom_classes": [],
            "_model_module": "@jupyter-widgets/controls",
            "_model_module_version": "1.5.0",
            "_model_name": "FloatProgressModel",
            "_view_count": null,
            "_view_module": "@jupyter-widgets/controls",
            "_view_module_version": "1.5.0",
            "_view_name": "ProgressView",
            "bar_style": "success",
            "description": "",
            "description_tooltip": null,
            "layout": "IPY_MODEL_673607e045c044cd917115aa7b84db73",
            "max": 7,
            "min": 0,
            "orientation": "horizontal",
            "style": "IPY_MODEL_7a88e892d25e4899b46df638cfdbef4c",
            "value": 7
          }
        },
        "8c328b5c7c414d66a00b80a4ec3adcaf": {
          "model_module": "@jupyter-widgets/controls",
          "model_name": "HTMLModel",
          "model_module_version": "1.5.0",
          "state": {
            "_dom_classes": [],
            "_model_module": "@jupyter-widgets/controls",
            "_model_module_version": "1.5.0",
            "_model_name": "HTMLModel",
            "_view_count": null,
            "_view_module": "@jupyter-widgets/controls",
            "_view_module_version": "1.5.0",
            "_view_name": "HTMLView",
            "description": "",
            "description_tooltip": null,
            "layout": "IPY_MODEL_2de1e12d8dbc46b18c1642bc752fe0df",
            "placeholder": "​",
            "style": "IPY_MODEL_8da3242c26ea42dd9f07a9ee45554ebb",
            "value": " 7/7 [01:08&lt;00:00,  7.82s/it]"
          }
        },
        "5edf2c4cba66463cb67879d1c0e03381": {
          "model_module": "@jupyter-widgets/base",
          "model_name": "LayoutModel",
          "model_module_version": "1.2.0",
          "state": {
            "_model_module": "@jupyter-widgets/base",
            "_model_module_version": "1.2.0",
            "_model_name": "LayoutModel",
            "_view_count": null,
            "_view_module": "@jupyter-widgets/base",
            "_view_module_version": "1.2.0",
            "_view_name": "LayoutView",
            "align_content": null,
            "align_items": null,
            "align_self": null,
            "border": null,
            "bottom": null,
            "display": null,
            "flex": null,
            "flex_flow": null,
            "grid_area": null,
            "grid_auto_columns": null,
            "grid_auto_flow": null,
            "grid_auto_rows": null,
            "grid_column": null,
            "grid_gap": null,
            "grid_row": null,
            "grid_template_areas": null,
            "grid_template_columns": null,
            "grid_template_rows": null,
            "height": null,
            "justify_content": null,
            "justify_items": null,
            "left": null,
            "margin": null,
            "max_height": null,
            "max_width": null,
            "min_height": null,
            "min_width": null,
            "object_fit": null,
            "object_position": null,
            "order": null,
            "overflow": null,
            "overflow_x": null,
            "overflow_y": null,
            "padding": null,
            "right": null,
            "top": null,
            "visibility": null,
            "width": null
          }
        },
        "989ab348414d45ea9ea732f6ed7ffac8": {
          "model_module": "@jupyter-widgets/base",
          "model_name": "LayoutModel",
          "model_module_version": "1.2.0",
          "state": {
            "_model_module": "@jupyter-widgets/base",
            "_model_module_version": "1.2.0",
            "_model_name": "LayoutModel",
            "_view_count": null,
            "_view_module": "@jupyter-widgets/base",
            "_view_module_version": "1.2.0",
            "_view_name": "LayoutView",
            "align_content": null,
            "align_items": null,
            "align_self": null,
            "border": null,
            "bottom": null,
            "display": null,
            "flex": null,
            "flex_flow": null,
            "grid_area": null,
            "grid_auto_columns": null,
            "grid_auto_flow": null,
            "grid_auto_rows": null,
            "grid_column": null,
            "grid_gap": null,
            "grid_row": null,
            "grid_template_areas": null,
            "grid_template_columns": null,
            "grid_template_rows": null,
            "height": null,
            "justify_content": null,
            "justify_items": null,
            "left": null,
            "margin": null,
            "max_height": null,
            "max_width": null,
            "min_height": null,
            "min_width": null,
            "object_fit": null,
            "object_position": null,
            "order": null,
            "overflow": null,
            "overflow_x": null,
            "overflow_y": null,
            "padding": null,
            "right": null,
            "top": null,
            "visibility": null,
            "width": null
          }
        },
        "e81c7607fa53404b8668ea7e3a023d6e": {
          "model_module": "@jupyter-widgets/controls",
          "model_name": "DescriptionStyleModel",
          "model_module_version": "1.5.0",
          "state": {
            "_model_module": "@jupyter-widgets/controls",
            "_model_module_version": "1.5.0",
            "_model_name": "DescriptionStyleModel",
            "_view_count": null,
            "_view_module": "@jupyter-widgets/base",
            "_view_module_version": "1.2.0",
            "_view_name": "StyleView",
            "description_width": ""
          }
        },
        "673607e045c044cd917115aa7b84db73": {
          "model_module": "@jupyter-widgets/base",
          "model_name": "LayoutModel",
          "model_module_version": "1.2.0",
          "state": {
            "_model_module": "@jupyter-widgets/base",
            "_model_module_version": "1.2.0",
            "_model_name": "LayoutModel",
            "_view_count": null,
            "_view_module": "@jupyter-widgets/base",
            "_view_module_version": "1.2.0",
            "_view_name": "LayoutView",
            "align_content": null,
            "align_items": null,
            "align_self": null,
            "border": null,
            "bottom": null,
            "display": null,
            "flex": null,
            "flex_flow": null,
            "grid_area": null,
            "grid_auto_columns": null,
            "grid_auto_flow": null,
            "grid_auto_rows": null,
            "grid_column": null,
            "grid_gap": null,
            "grid_row": null,
            "grid_template_areas": null,
            "grid_template_columns": null,
            "grid_template_rows": null,
            "height": null,
            "justify_content": null,
            "justify_items": null,
            "left": null,
            "margin": null,
            "max_height": null,
            "max_width": null,
            "min_height": null,
            "min_width": null,
            "object_fit": null,
            "object_position": null,
            "order": null,
            "overflow": null,
            "overflow_x": null,
            "overflow_y": null,
            "padding": null,
            "right": null,
            "top": null,
            "visibility": null,
            "width": null
          }
        },
        "7a88e892d25e4899b46df638cfdbef4c": {
          "model_module": "@jupyter-widgets/controls",
          "model_name": "ProgressStyleModel",
          "model_module_version": "1.5.0",
          "state": {
            "_model_module": "@jupyter-widgets/controls",
            "_model_module_version": "1.5.0",
            "_model_name": "ProgressStyleModel",
            "_view_count": null,
            "_view_module": "@jupyter-widgets/base",
            "_view_module_version": "1.2.0",
            "_view_name": "StyleView",
            "bar_color": null,
            "description_width": ""
          }
        },
        "2de1e12d8dbc46b18c1642bc752fe0df": {
          "model_module": "@jupyter-widgets/base",
          "model_name": "LayoutModel",
          "model_module_version": "1.2.0",
          "state": {
            "_model_module": "@jupyter-widgets/base",
            "_model_module_version": "1.2.0",
            "_model_name": "LayoutModel",
            "_view_count": null,
            "_view_module": "@jupyter-widgets/base",
            "_view_module_version": "1.2.0",
            "_view_name": "LayoutView",
            "align_content": null,
            "align_items": null,
            "align_self": null,
            "border": null,
            "bottom": null,
            "display": null,
            "flex": null,
            "flex_flow": null,
            "grid_area": null,
            "grid_auto_columns": null,
            "grid_auto_flow": null,
            "grid_auto_rows": null,
            "grid_column": null,
            "grid_gap": null,
            "grid_row": null,
            "grid_template_areas": null,
            "grid_template_columns": null,
            "grid_template_rows": null,
            "height": null,
            "justify_content": null,
            "justify_items": null,
            "left": null,
            "margin": null,
            "max_height": null,
            "max_width": null,
            "min_height": null,
            "min_width": null,
            "object_fit": null,
            "object_position": null,
            "order": null,
            "overflow": null,
            "overflow_x": null,
            "overflow_y": null,
            "padding": null,
            "right": null,
            "top": null,
            "visibility": null,
            "width": null
          }
        },
        "8da3242c26ea42dd9f07a9ee45554ebb": {
          "model_module": "@jupyter-widgets/controls",
          "model_name": "DescriptionStyleModel",
          "model_module_version": "1.5.0",
          "state": {
            "_model_module": "@jupyter-widgets/controls",
            "_model_module_version": "1.5.0",
            "_model_name": "DescriptionStyleModel",
            "_view_count": null,
            "_view_module": "@jupyter-widgets/base",
            "_view_module_version": "1.2.0",
            "_view_name": "StyleView",
            "description_width": ""
          }
        }
      }
    }
  },
  "cells": [
    {
      "cell_type": "markdown",
      "source": [
        "##Preparo el entorno"
      ],
      "metadata": {
        "id": "9EHf23BJMSFo"
      }
    },
    {
      "cell_type": "code",
      "execution_count": null,
      "metadata": {
        "id": "KP_qHpz1LHu6"
      },
      "outputs": [],
      "source": [
        "!pip install diffusers transformers accelerate torch scipy gradio opencv-python -q\n"
      ]
    },
    {
      "cell_type": "markdown",
      "source": [
        "##Importo las librerías que vamos a utilizar"
      ],
      "metadata": {
        "id": "1viGhi0rMbsX"
      }
    },
    {
      "cell_type": "code",
      "source": [
        "# Librerías para procesamiento digital clásico\n",
        "import cv2\n",
        "import numpy as np\n",
        "from PIL import Image\n",
        "import matplotlib.pyplot as plt\n",
        "\n",
        "# Librerías para generación con IA\n",
        "import torch\n",
        "from diffusers import StableDiffusionXLPipeline\n",
        "\n",
        "# Gradio\n",
        "import gradio as gr\n"
      ],
      "metadata": {
        "id": "907V9Yw0MgEB"
      },
      "execution_count": null,
      "outputs": []
    },
    {
      "cell_type": "markdown",
      "source": [
        "##Cargo el modelo de generación de imágenes"
      ],
      "metadata": {
        "id": "th_09ksqMlZ0"
      }
    },
    {
      "cell_type": "code",
      "source": [
        "# Cargar el modelo SDXL desde Hugging Face\n",
        "#pipe = StableDiffusionXLPipeline.from_pretrained(\n",
        "#    \"CompVis/stable-diffusion-v1-4\"\n",
        "#)\n",
        "#pipe.to(\"cpu\")  # Usar la GPU\n",
        "from diffusers import StableDiffusionXLPipeline\n",
        "import torch\n",
        "\n",
        "pipe = StableDiffusionXLPipeline.from_pretrained(\n",
        "    \"stabilityai/stable-diffusion-xl-base-1.0\",\n",
        "    torch_dtype=torch.float16\n",
        ")\n",
        "pipe.to(\"cuda\")\n"
      ],
      "metadata": {
        "colab": {
          "base_uri": "https://localhost:8080/",
          "height": 882,
          "referenced_widgets": [
            "02cd9ffecfdd46b5824aae73978d6fb6",
            "1e998c075da242d3acd4e9230ebba89f",
            "a861af10b6264011ae923ac59d736915",
            "8c328b5c7c414d66a00b80a4ec3adcaf",
            "5edf2c4cba66463cb67879d1c0e03381",
            "989ab348414d45ea9ea732f6ed7ffac8",
            "e81c7607fa53404b8668ea7e3a023d6e",
            "673607e045c044cd917115aa7b84db73",
            "7a88e892d25e4899b46df638cfdbef4c",
            "2de1e12d8dbc46b18c1642bc752fe0df",
            "8da3242c26ea42dd9f07a9ee45554ebb"
          ]
        },
        "id": "V0yKHp0nMrrf",
        "outputId": "93ac9676-d47b-46fd-f718-b56a28e21ce1"
      },
      "execution_count": null,
      "outputs": [
        {
          "output_type": "stream",
          "name": "stderr",
          "text": [
            "/usr/local/lib/python3.11/dist-packages/huggingface_hub/utils/_auth.py:94: UserWarning: \n",
            "The secret `HF_TOKEN` does not exist in your Colab secrets.\n",
            "To authenticate with the Hugging Face Hub, create a token in your settings tab (https://huggingface.co/settings/tokens), set it as secret in your Google Colab and restart your session.\n",
            "You will be able to reuse this secret in all of your notebooks.\n",
            "Please note that authentication is recommended but still optional to access public models or datasets.\n",
            "  warnings.warn(\n"
          ]
        },
        {
          "output_type": "display_data",
          "data": {
            "text/plain": [
              "Loading pipeline components...:   0%|          | 0/7 [00:00<?, ?it/s]"
            ],
            "application/vnd.jupyter.widget-view+json": {
              "version_major": 2,
              "version_minor": 0,
              "model_id": "02cd9ffecfdd46b5824aae73978d6fb6"
            }
          },
          "metadata": {}
        },
        {
          "output_type": "execute_result",
          "data": {
            "text/plain": [
              "StableDiffusionXLPipeline {\n",
              "  \"_class_name\": \"StableDiffusionXLPipeline\",\n",
              "  \"_diffusers_version\": \"0.33.1\",\n",
              "  \"_name_or_path\": \"stabilityai/stable-diffusion-xl-base-1.0\",\n",
              "  \"feature_extractor\": [\n",
              "    null,\n",
              "    null\n",
              "  ],\n",
              "  \"force_zeros_for_empty_prompt\": true,\n",
              "  \"image_encoder\": [\n",
              "    null,\n",
              "    null\n",
              "  ],\n",
              "  \"scheduler\": [\n",
              "    \"diffusers\",\n",
              "    \"EulerDiscreteScheduler\"\n",
              "  ],\n",
              "  \"text_encoder\": [\n",
              "    \"transformers\",\n",
              "    \"CLIPTextModel\"\n",
              "  ],\n",
              "  \"text_encoder_2\": [\n",
              "    \"transformers\",\n",
              "    \"CLIPTextModelWithProjection\"\n",
              "  ],\n",
              "  \"tokenizer\": [\n",
              "    \"transformers\",\n",
              "    \"CLIPTokenizer\"\n",
              "  ],\n",
              "  \"tokenizer_2\": [\n",
              "    \"transformers\",\n",
              "    \"CLIPTokenizer\"\n",
              "  ],\n",
              "  \"unet\": [\n",
              "    \"diffusers\",\n",
              "    \"UNet2DConditionModel\"\n",
              "  ],\n",
              "  \"vae\": [\n",
              "    \"diffusers\",\n",
              "    \"AutoencoderKL\"\n",
              "  ]\n",
              "}"
            ]
          },
          "metadata": {},
          "execution_count": 3
        }
      ]
    },
    {
      "cell_type": "markdown",
      "source": [
        "##Función de generación de imagen con IA"
      ],
      "metadata": {
        "id": "MGDCLIcuOvPm"
      }
    },
    {
      "cell_type": "code",
      "source": [
        "def generar_imagen(prompt, negative_prompt, steps, guidance, filtro):\n",
        "    # Generar imagen con IA\n",
        "    image = pipe(\n",
        "        prompt=prompt,\n",
        "        negative_prompt=negative_prompt,\n",
        "        num_inference_steps=steps,\n",
        "        guidance_scale=guidance\n",
        "    ).images[0]\n",
        "\n",
        "    # Si no hay filtro, devolvés directamente la imagen generada\n",
        "    if filtro == \"Ninguno\":\n",
        "        return image\n",
        "\n",
        "    # Convertir imagen PIL a formato OpenCV\n",
        "    img_cv = cv2.cvtColor(np.array(image), cv2.COLOR_RGB2BGR)\n",
        "\n",
        "    # Aplicar filtro si corresponde\n",
        "    if filtro == \"Canny\":\n",
        "        img_cv = cv2.Canny(img_cv, 100, 200)\n",
        "        return Image.fromarray(img_cv)  # Imagen en escala de grises\n",
        "\n",
        "    elif filtro == \"Blur\":\n",
        "        img_cv = cv2.GaussianBlur(img_cv, (5, 5), 0)\n",
        "        img_rgb = cv2.cvtColor(img_cv, cv2.COLOR_BGR2RGB)\n",
        "        return Image.fromarray(img_rgb)\n",
        "\n",
        "    return image  # por si algo falla, devolvés la original\n"
      ],
      "metadata": {
        "id": "MgQvI33hO1ro"
      },
      "execution_count": null,
      "outputs": []
    },
    {
      "cell_type": "markdown",
      "source": [
        "Esta función:\n",
        "\n",
        "Toma un prompt positivo y uno negativo (para evitar cosas como “texto” o “blurry”)\n",
        "\n",
        "Recibe dos parámetros: steps (cantidad de pasos del modelo) y guidance (qué tan fiel al texto debe ser)\n",
        "\n",
        "Devuelve una imagen generada"
      ],
      "metadata": {
        "id": "eadvDwxoO8R7"
      }
    },
    {
      "cell_type": "markdown",
      "source": [
        "##Creo interfaz"
      ],
      "metadata": {
        "id": "CRoZAdHTSWSg"
      }
    },
    {
      "cell_type": "code",
      "source": [
        "gr.Interface(\n",
        "    fn=generar_imagen,\n",
        "    inputs=[\n",
        "        gr.Textbox(label=\"Prompt positivo\"),\n",
        "        gr.Textbox(label=\"Prompt negativo (elementos a evitar)\", placeholder=\"ej: text, blurry, distorted\"),\n",
        "        gr.Slider(10, 100, value=25, step=1, label=\"Número de pasos\"),\n",
        "        gr.Slider(1.0, 15.0, value=7.5, step=0.1, label=\"Guidance scale\")\n",
        "    ],\n",
        "    outputs=gr.Image(type=\"pil\", label=\"Imagen generada\"),\n",
        "    title=\"Generador de Imágenes con PDI + IA\",\n",
        "    description=\"Este generador te permite crear imágenes por texto y aplicar procesamiento digital con técnicas clásicas e inteligencia artificial.\"\n",
        ").launch()\n"
      ],
      "metadata": {
        "colab": {
          "base_uri": "https://localhost:8080/",
          "height": 695
        },
        "id": "N1A3xPPpSgtI",
        "outputId": "65cbc18e-f622-4479-b410-791a0a7927f2"
      },
      "execution_count": null,
      "outputs": [
        {
          "output_type": "stream",
          "name": "stderr",
          "text": [
            "/usr/local/lib/python3.11/dist-packages/gradio/utils.py:1028: UserWarning: Expected 5 arguments for function <function generar_imagen at 0x78cb01e631a0>, received 4.\n",
            "  warnings.warn(\n",
            "/usr/local/lib/python3.11/dist-packages/gradio/utils.py:1032: UserWarning: Expected at least 5 arguments for function <function generar_imagen at 0x78cb01e631a0>, received 4.\n",
            "  warnings.warn(\n"
          ]
        },
        {
          "output_type": "stream",
          "name": "stdout",
          "text": [
            "It looks like you are running Gradio on a hosted a Jupyter notebook. For the Gradio app to work, sharing must be enabled. Automatically setting `share=True` (you can turn this off by setting `share=False` in `launch()` explicitly).\n",
            "\n",
            "Colab notebook detected. To show errors in colab notebook, set debug=True in launch()\n",
            "* Running on public URL: https://3e22077295caa2880c.gradio.live\n",
            "\n",
            "This share link expires in 1 week. For free permanent hosting and GPU upgrades, run `gradio deploy` from the terminal in the working directory to deploy to Hugging Face Spaces (https://huggingface.co/spaces)\n"
          ]
        },
        {
          "output_type": "display_data",
          "data": {
            "text/plain": [
              "<IPython.core.display.HTML object>"
            ],
            "text/html": [
              "<div><iframe src=\"https://3e22077295caa2880c.gradio.live\" width=\"100%\" height=\"500\" allow=\"autoplay; camera; microphone; clipboard-read; clipboard-write;\" frameborder=\"0\" allowfullscreen></iframe></div>"
            ]
          },
          "metadata": {}
        },
        {
          "output_type": "execute_result",
          "data": {
            "text/plain": []
          },
          "metadata": {},
          "execution_count": 5
        }
      ]
    }
  ]
}